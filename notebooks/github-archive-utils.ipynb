{
 "cells": [
  {
   "cell_type": "code",
   "execution_count": 1,
   "metadata": {},
   "outputs": [],
   "source": [
    "from bs4 import BeautifulSoup\n",
    "from collections import Counter, defaultdict\n",
    "import json\n",
    "import matplotlib.pyplot as plt\n",
    "import nltk\n",
    "import numpy as np\n",
    "import os\n",
    "import pandas as pd\n",
    "from pandas.io.json import json_normalize    \n",
    "import re\n",
    "import seaborn as sns"
   ]
  },
  {
   "cell_type": "markdown",
   "metadata": {},
   "source": [
    "Parsing functionality for event types:\n",
    "```\n",
    "{'CommitCommentEvent',\n",
    " 'CreateEvent',\n",
    " 'DeleteEvent',\n",
    " 'ForkEvent',\n",
    " 'GollumEvent',\n",
    " 'IssueCommentEvent',\n",
    " 'IssuesEvent',\n",
    " 'MemberEvent',\n",
    " 'PublicEvent',\n",
    " 'PullRequestEvent',\n",
    " 'PullRequestReviewCommentEvent',\n",
    " 'PushEvent',\n",
    " 'ReleaseEvent',\n",
    " 'WatchEvent'}\n",
    " ```"
   ]
  },
  {
   "cell_type": "code",
   "execution_count": 2,
   "metadata": {},
   "outputs": [],
   "source": [
    "ALL_EVENTS = {\n",
    "    '<START>',\n",
    "    'CommitCommentEvent',\n",
    "    'CreateEvent',\n",
    "    'DeleteEvent',\n",
    "    'ForkEvent',\n",
    "    'GollumEvent',\n",
    "    'IssueCommentEvent',\n",
    "    'IssuesEvent',\n",
    "    'MemberEvent',\n",
    "    'PublicEvent',\n",
    "    'PullRequestEvent',\n",
    "    'PullRequestReviewCommentEvent',\n",
    "    'PushEvent',\n",
    "    'ReleaseEvent',\n",
    "    'WatchEvent',\n",
    "    '<END>'\n",
    "}"
   ]
  },
  {
   "cell_type": "code",
   "execution_count": 3,
   "metadata": {},
   "outputs": [],
   "source": [
    "def is_event(record, e):\n",
    "    return record['type'] == e"
   ]
  },
  {
   "cell_type": "code",
   "execution_count": 4,
   "metadata": {},
   "outputs": [],
   "source": [
    "def strip_html(text):\n",
    "    soup = BeautifulSoup(text, \"html.parser\")\n",
    "    return soup.get_text()\n",
    "\n",
    "def remove_between_square_brackets(text):\n",
    "    return re.sub('\\[[^]]*\\]', '', text)\n",
    "\n",
    "def preprocess_message(m):\n",
    "    m = m.lower()\n",
    "    m = strip_html(m)\n",
    "    m = remove_between_square_brackets(m)\n",
    "    return m"
   ]
  },
  {
   "cell_type": "markdown",
   "metadata": {},
   "source": [
    "## Event-level analysis"
   ]
  },
  {
   "cell_type": "code",
   "execution_count": 5,
   "metadata": {},
   "outputs": [],
   "source": [
    "event_sequence = defaultdict(list)\n",
    "events = []\n",
    "with open(\"../data/practice_gh.json\", 'r') as f:\n",
    "    for i, record in enumerate(f):\n",
    "        data = json.loads(record)\n",
    "        _data = {\n",
    "            'idx': i,\n",
    "            'repo_id': data['repo']['id'],\n",
    "            'created_at': data['created_at'],\n",
    "            'event_type': data['type']}\n",
    "        events.append(_data)\n",
    "        event_sequence[_data['repo_id']].append(_data['event_type'])"
   ]
  },
  {
   "cell_type": "markdown",
   "metadata": {},
   "source": [
    "### Events transition matrix"
   ]
  },
  {
   "cell_type": "code",
   "execution_count": 6,
   "metadata": {},
   "outputs": [],
   "source": [
    "sequences = [np.array(['<START>'] + s + ['<END>']) for s in event_sequence.values()]"
   ]
  },
  {
   "cell_type": "code",
   "execution_count": 7,
   "metadata": {},
   "outputs": [],
   "source": [
    "sequences_flattend = np.concatenate(sequences).flatten()"
   ]
  },
  {
   "cell_type": "code",
   "execution_count": 8,
   "metadata": {},
   "outputs": [],
   "source": [
    "# Bigrams\n",
    "d_bigrams = defaultdict(list)\n",
    "for (first, second) in list(nltk.bigrams(sequences_flattend)):\n",
    "    d_bigrams[first].append(second)\n",
    "d2_bigrams = defaultdict(Counter)\n",
    "# Transition counts\n",
    "for k, arr in d_bigrams.items():\n",
    "    d2_bigrams[k] = Counter(arr)\n",
    "    # Fill 0 probs\n",
    "    missing_keys = ALL_EVENTS - set(d2_bigrams[k].keys())\n",
    "    for missing_key in missing_keys:\n",
    "        d2_bigrams[k][missing_key] = 0"
   ]
  },
  {
   "cell_type": "code",
   "execution_count": 16,
   "metadata": {},
   "outputs": [],
   "source": [
    "# Note we need to sort and align keys and values here.\n",
    "for k, arr in sorted(d2_bigrams.items(), key=lambda x: x[0]):\n",
    "    keys, vals = zip(*sorted(arr.items(), key=lambda x: x[0]))\n",
    "    assert sorted(d2_bigrams.keys()) == list(keys)\n",
    "    cnts = np.fromiter(vals, dtype=float)\n",
    "    total = np.sum(cnts)\n",
    "    probs = cnts / total\n",
    "    d2_bigrams[k] = {ks:pr for ks, pr in zip(keys, probs)}\n",
    "    \n",
    "for k, vs in d2_bigrams.items():\n",
    "    assert((np.sum(list(vs.values()))-1) < 1e-8)"
   ]
  },
  {
   "cell_type": "code",
   "execution_count": 17,
   "metadata": {},
   "outputs": [],
   "source": [
    "rows = list(sorted(d2_bigrams.keys()))\n",
    "\n",
    "M = []\n",
    "for row in rows:\n",
    "    curr_d = d2_bigrams[row]\n",
    "    curr_keys = []\n",
    "    curr_prs = []\n",
    "    for ks, vs in sorted(curr_d.items(), key=lambda x: x[0]):\n",
    "        curr_keys.append(ks)\n",
    "        curr_prs.append(vs)\n",
    "    assert(rows == curr_keys)\n",
    "    M.append(curr_prs)\n",
    "M = np.array(M)\n",
    "    \n",
    "# M = np.array([list(d2_bigrams[row].values()) for row in rows])\n",
    "assert(M.shape == (len(rows), len(rows)))"
   ]
  },
  {
   "cell_type": "code",
   "execution_count": 21,
   "metadata": {},
   "outputs": [
    {
     "data": {
      "text/plain": [
       "<matplotlib.axes._subplots.AxesSubplot at 0x1a26a27710>"
      ]
     },
     "execution_count": 21,
     "metadata": {},
     "output_type": "execute_result"
    },
    {
     "data": {
      "image/png": "[encoded data removed]",
      "text/plain": [
       "<Figure size 1440x720 with 2 Axes>"
      ]
     },
     "metadata": {},
     "output_type": "display_data"
    }
   ],
   "source": [
    "plt.figure(figsize=(20,10))\n",
    "sns.heatmap(M, xticklabels=rows, yticklabels=rows, vmax=1.0)"
   ]
  },
  {
   "cell_type": "markdown",
   "metadata": {},
   "source": [
    "### Event lengths\n",
    "\n",
    "Events data is strongly skewed - just a few events per repo. Is this part of how the data has been sampled? Or true to the lifetimes of the repos?"
   ]
  },
  {
   "cell_type": "code",
   "execution_count": 24,
   "metadata": {},
   "outputs": [],
   "source": [
    "df_events = pd.DataFrame(events)"
   ]
  },
  {
   "cell_type": "code",
   "execution_count": 31,
   "metadata": {},
   "outputs": [],
   "source": [
    "df_counts = df_events \\\n",
    "    .groupby(\"repo_id\") \\\n",
    "    .count() \\\n",
    "    .reset_index() \\\n",
    "    .sort_values('idx', ascending=False) \\\n",
    "    .drop(['created_at', 'event_type'], axis=1) \\\n",
    "    .rename(columns={'idx': 'cnt'})"
   ]
  },
  {
   "cell_type": "code",
   "execution_count": 42,
   "metadata": {},
   "outputs": [
    {
     "data": {
      "text/html": [
       "<div>\n",
       "<style scoped>\n",
       "    .dataframe tbody tr th:only-of-type {\n",
       "        vertical-align: middle;\n",
       "    }\n",
       "\n",
       "    .dataframe tbody tr th {\n",
       "        vertical-align: top;\n",
       "    }\n",
       "\n",
       "    .dataframe thead th {\n",
       "        text-align: right;\n",
       "    }\n",
       "</style>\n",
       "<table border=\"1\" class=\"dataframe\">\n",
       "  <thead>\n",
       "    <tr style=\"text-align: right;\">\n",
       "      <th></th>\n",
       "      <th>cnt</th>\n",
       "    </tr>\n",
       "  </thead>\n",
       "  <tbody>\n",
       "    <tr>\n",
       "      <th>count</th>\n",
       "      <td>6198.000000</td>\n",
       "    </tr>\n",
       "    <tr>\n",
       "      <th>mean</th>\n",
       "      <td>1.831397</td>\n",
       "    </tr>\n",
       "    <tr>\n",
       "      <th>std</th>\n",
       "      <td>2.389086</td>\n",
       "    </tr>\n",
       "    <tr>\n",
       "      <th>min</th>\n",
       "      <td>1.000000</td>\n",
       "    </tr>\n",
       "    <tr>\n",
       "      <th>25%</th>\n",
       "      <td>1.000000</td>\n",
       "    </tr>\n",
       "    <tr>\n",
       "      <th>50%</th>\n",
       "      <td>1.000000</td>\n",
       "    </tr>\n",
       "    <tr>\n",
       "      <th>75%</th>\n",
       "      <td>2.000000</td>\n",
       "    </tr>\n",
       "    <tr>\n",
       "      <th>max</th>\n",
       "      <td>80.000000</td>\n",
       "    </tr>\n",
       "  </tbody>\n",
       "</table>\n",
       "</div>"
      ],
      "text/plain": [
       "               cnt\n",
       "count  6198.000000\n",
       "mean      1.831397\n",
       "std       2.389086\n",
       "min       1.000000\n",
       "25%       1.000000\n",
       "50%       1.000000\n",
       "75%       2.000000\n",
       "max      80.000000"
      ]
     },
     "execution_count": 42,
     "metadata": {},
     "output_type": "execute_result"
    }
   ],
   "source": [
    "df_counts[['cnt']].describe()"
   ]
  },
  {
   "cell_type": "code",
   "execution_count": 52,
   "metadata": {},
   "outputs": [
    {
     "name": "stdout",
     "output_type": "stream",
     "text": [
      "Number of events in repo > 1\n",
      "0.3360761535979348\n",
      "Number of events in repo > 2\n",
      "0.16505324298160698\n",
      "Number of events in repo > 3\n",
      "0.0866408518877057\n",
      "Number of events in repo > 4\n",
      "0.054049693449499836\n",
      "Number of events in repo > 5\n",
      "0.03646337528234914\n",
      "Number of events in repo > 6\n",
      "0.026944175540496936\n",
      "Number of events in repo > 7\n",
      "0.020813165537270088\n",
      "Number of events in repo > 8\n",
      "0.015166182639561149\n",
      "Number of events in repo > 9\n",
      "0.012100677637947725\n"
     ]
    }
   ],
   "source": [
    "for i in range(1, 10):\n",
    "    print(\"Number of events in repo > {}\".format(i))\n",
    "    print(np.sum(df_counts['cnt'] > i) / len(df_counts))"
   ]
  },
  {
   "cell_type": "code",
   "execution_count": 43,
   "metadata": {},
   "outputs": [
    {
     "name": "stderr",
     "output_type": "stream",
     "text": [
      "/Users/benpeloquin/anaconda/envs/github-data/lib/python3.5/site-packages/matplotlib/axes/_axes.py:6462: UserWarning: The 'normed' kwarg is deprecated, and has been replaced by the 'density' kwarg.\n",
      "  warnings.warn(\"The 'normed' kwarg is deprecated, and has been \"\n"
     ]
    },
    {
     "data": {
      "image/png": "[encoded data removed]",
      "text/plain": [
       "<Figure size 1440x720 with 1 Axes>"
      ]
     },
     "metadata": {},
     "output_type": "display_data"
    }
   ],
   "source": [
    "plt.figure(figsize=(20,10))\n",
    "sns.distplot(df_counts['cnt']);"
   ]
  },
  {
   "cell_type": "markdown",
   "metadata": {},
   "source": [
    "### Push Events"
   ]
  },
  {
   "cell_type": "code",
   "execution_count": 35,
   "metadata": {},
   "outputs": [],
   "source": [
    "class EventParser:\n",
    "    def __init__(self, data, idx):\n",
    "        self.raw_data = data\n",
    "        self.idx = idx\n",
    "        \n",
    "    def parse(self, data):\n",
    "        \"\"\"Extract attributes from data.\"\"\"\n",
    "        NotImplementedError()\n",
    "        \n",
    "    def to_dict(self):\n",
    "        \"\"\"Attributes to dict.\"\"\"\n",
    "        NotImplementedError()\n",
    "        \n",
    "class PushEventParser(EventParser):\n",
    "    def __init__(self, data, idx):\n",
    "        super(PushEventParser, self).__init__(data, idx)\n",
    "        self.type = \"PushEvent\"\n",
    "        \n",
    "    def parse(self):\n",
    "        \"\"\"Extract attributes from data.\"\"\"\n",
    "        self.repo_id = data['repo']['id']\n",
    "        self.repo_name = data['repo']['name']\n",
    "        self.before = data['payload']['before']\n",
    "        self.commits = data['payload']['commits']\n",
    "        self.processed_commits = self._extract_commits()\n",
    "        self.distinct = data['payload']['distinct_size']  # Number of commits in payload\n",
    "        self.created_at = data['created_at']\n",
    "        \n",
    "    def to_dict(self):\n",
    "        \"\"\"Attributes to dict list of dicts.\n",
    "        \n",
    "        Note that we return list of dicts to handle payloads with lists.\n",
    "        \n",
    "        Expect to accumulate data in lists using .extend()\n",
    "        \n",
    "        \"\"\"\n",
    "        data = []\n",
    "        d_global = {\n",
    "            \"repo_id\": self.repo_id,\n",
    "            \"repo_name\": self.repo_name,\n",
    "            \"distinct\": self.distinct,\n",
    "            \"created_at\": self.created_at\n",
    "        }\n",
    "        for commit in self.processed_commits:\n",
    "            commit.update(d_global)\n",
    "            data.append(commit)\n",
    "        return data\n",
    "        \n",
    "    def _extract_commits(self):\n",
    "        processed_commits = []\n",
    "        for i, commit in enumerate(self.commits):\n",
    "            curr_commmit = {\n",
    "                'commit_idx': i,\n",
    "                'commit_sha': commit['sha'],\n",
    "                'is_unique': commit['distinct'],\n",
    "                'message': commit['message']\n",
    "            }\n",
    "            processed_commits.append(curr_commmit)\n",
    "        return processed_commits"
   ]
  },
  {
   "cell_type": "code",
   "execution_count": 37,
   "metadata": {},
   "outputs": [
    {
     "name": "stdout",
     "output_type": "stream",
     "text": [
      "> <ipython-input-37-b24b9e20a8f0>(8)<module>()\n",
      "-> parser = PushEventParser(data, i)\n",
      "(Pdb) c\n",
      "> <ipython-input-37-b24b9e20a8f0>(6)<module>()\n",
      "-> import pdb; pdb.set_trace();\n",
      "(Pdb) c\n",
      "> <ipython-input-37-b24b9e20a8f0>(8)<module>()\n",
      "-> parser = PushEventParser(data, i)\n",
      "(Pdb) quit()\n"
     ]
    },
    {
     "ename": "BdbQuit",
     "evalue": "",
     "output_type": "error",
     "traceback": [
      "\u001b[0;31m---------------------------------------------------------------------------\u001b[0m",
      "\u001b[0;31mBdbQuit\u001b[0m                                   Traceback (most recent call last)",
      "\u001b[0;32m<ipython-input-37-b24b9e20a8f0>\u001b[0m in \u001b[0;36m<module>\u001b[0;34m()\u001b[0m\n\u001b[1;32m      6\u001b[0m             \u001b[0;32mimport\u001b[0m \u001b[0mpdb\u001b[0m\u001b[0;34m;\u001b[0m \u001b[0mpdb\u001b[0m\u001b[0;34m.\u001b[0m\u001b[0mset_trace\u001b[0m\u001b[0;34m(\u001b[0m\u001b[0;34m)\u001b[0m\u001b[0;34m;\u001b[0m\u001b[0;34m\u001b[0m\u001b[0m\n\u001b[1;32m      7\u001b[0m \u001b[0;34m\u001b[0m\u001b[0m\n\u001b[0;32m----> 8\u001b[0;31m             \u001b[0mparser\u001b[0m \u001b[0;34m=\u001b[0m \u001b[0mPushEventParser\u001b[0m\u001b[0;34m(\u001b[0m\u001b[0mdata\u001b[0m\u001b[0;34m,\u001b[0m \u001b[0mi\u001b[0m\u001b[0;34m)\u001b[0m\u001b[0;34m\u001b[0m\u001b[0m\n\u001b[0m\u001b[1;32m      9\u001b[0m             \u001b[0mparser\u001b[0m\u001b[0;34m.\u001b[0m\u001b[0mparse\u001b[0m\u001b[0;34m(\u001b[0m\u001b[0;34m)\u001b[0m\u001b[0;34m\u001b[0m\u001b[0m\n\u001b[1;32m     10\u001b[0m             \u001b[0mcurr_data\u001b[0m \u001b[0;34m=\u001b[0m \u001b[0mparser\u001b[0m\u001b[0;34m.\u001b[0m\u001b[0mto_dict\u001b[0m\u001b[0;34m(\u001b[0m\u001b[0;34m)\u001b[0m\u001b[0;34m\u001b[0m\u001b[0m\n",
      "\u001b[0;32m<ipython-input-37-b24b9e20a8f0>\u001b[0m in \u001b[0;36m<module>\u001b[0;34m()\u001b[0m\n\u001b[1;32m      6\u001b[0m             \u001b[0;32mimport\u001b[0m \u001b[0mpdb\u001b[0m\u001b[0;34m;\u001b[0m \u001b[0mpdb\u001b[0m\u001b[0;34m.\u001b[0m\u001b[0mset_trace\u001b[0m\u001b[0;34m(\u001b[0m\u001b[0;34m)\u001b[0m\u001b[0;34m;\u001b[0m\u001b[0;34m\u001b[0m\u001b[0m\n\u001b[1;32m      7\u001b[0m \u001b[0;34m\u001b[0m\u001b[0m\n\u001b[0;32m----> 8\u001b[0;31m             \u001b[0mparser\u001b[0m \u001b[0;34m=\u001b[0m \u001b[0mPushEventParser\u001b[0m\u001b[0;34m(\u001b[0m\u001b[0mdata\u001b[0m\u001b[0;34m,\u001b[0m \u001b[0mi\u001b[0m\u001b[0;34m)\u001b[0m\u001b[0;34m\u001b[0m\u001b[0m\n\u001b[0m\u001b[1;32m      9\u001b[0m             \u001b[0mparser\u001b[0m\u001b[0;34m.\u001b[0m\u001b[0mparse\u001b[0m\u001b[0;34m(\u001b[0m\u001b[0;34m)\u001b[0m\u001b[0;34m\u001b[0m\u001b[0m\n\u001b[1;32m     10\u001b[0m             \u001b[0mcurr_data\u001b[0m \u001b[0;34m=\u001b[0m \u001b[0mparser\u001b[0m\u001b[0;34m.\u001b[0m\u001b[0mto_dict\u001b[0m\u001b[0;34m(\u001b[0m\u001b[0;34m)\u001b[0m\u001b[0;34m\u001b[0m\u001b[0m\n",
      "\u001b[0;32m~/anaconda/envs/github-data/lib/python3.5/bdb.py\u001b[0m in \u001b[0;36mtrace_dispatch\u001b[0;34m(self, frame, event, arg)\u001b[0m\n\u001b[1;32m     46\u001b[0m             \u001b[0;32mreturn\u001b[0m \u001b[0;31m# None\u001b[0m\u001b[0;34m\u001b[0m\u001b[0m\n\u001b[1;32m     47\u001b[0m         \u001b[0;32mif\u001b[0m \u001b[0mevent\u001b[0m \u001b[0;34m==\u001b[0m \u001b[0;34m'line'\u001b[0m\u001b[0;34m:\u001b[0m\u001b[0;34m\u001b[0m\u001b[0m\n\u001b[0;32m---> 48\u001b[0;31m             \u001b[0;32mreturn\u001b[0m \u001b[0mself\u001b[0m\u001b[0;34m.\u001b[0m\u001b[0mdispatch_line\u001b[0m\u001b[0;34m(\u001b[0m\u001b[0mframe\u001b[0m\u001b[0;34m)\u001b[0m\u001b[0;34m\u001b[0m\u001b[0m\n\u001b[0m\u001b[1;32m     49\u001b[0m         \u001b[0;32mif\u001b[0m \u001b[0mevent\u001b[0m \u001b[0;34m==\u001b[0m \u001b[0;34m'call'\u001b[0m\u001b[0;34m:\u001b[0m\u001b[0;34m\u001b[0m\u001b[0m\n\u001b[1;32m     50\u001b[0m             \u001b[0;32mreturn\u001b[0m \u001b[0mself\u001b[0m\u001b[0;34m.\u001b[0m\u001b[0mdispatch_call\u001b[0m\u001b[0;34m(\u001b[0m\u001b[0mframe\u001b[0m\u001b[0;34m,\u001b[0m \u001b[0marg\u001b[0m\u001b[0;34m)\u001b[0m\u001b[0;34m\u001b[0m\u001b[0m\n",
      "\u001b[0;32m~/anaconda/envs/github-data/lib/python3.5/bdb.py\u001b[0m in \u001b[0;36mdispatch_line\u001b[0;34m(self, frame)\u001b[0m\n\u001b[1;32m     65\u001b[0m         \u001b[0;32mif\u001b[0m \u001b[0mself\u001b[0m\u001b[0;34m.\u001b[0m\u001b[0mstop_here\u001b[0m\u001b[0;34m(\u001b[0m\u001b[0mframe\u001b[0m\u001b[0;34m)\u001b[0m \u001b[0;32mor\u001b[0m \u001b[0mself\u001b[0m\u001b[0;34m.\u001b[0m\u001b[0mbreak_here\u001b[0m\u001b[0;34m(\u001b[0m\u001b[0mframe\u001b[0m\u001b[0;34m)\u001b[0m\u001b[0;34m:\u001b[0m\u001b[0;34m\u001b[0m\u001b[0m\n\u001b[1;32m     66\u001b[0m             \u001b[0mself\u001b[0m\u001b[0;34m.\u001b[0m\u001b[0muser_line\u001b[0m\u001b[0;34m(\u001b[0m\u001b[0mframe\u001b[0m\u001b[0;34m)\u001b[0m\u001b[0;34m\u001b[0m\u001b[0m\n\u001b[0;32m---> 67\u001b[0;31m             \u001b[0;32mif\u001b[0m \u001b[0mself\u001b[0m\u001b[0;34m.\u001b[0m\u001b[0mquitting\u001b[0m\u001b[0;34m:\u001b[0m \u001b[0;32mraise\u001b[0m \u001b[0mBdbQuit\u001b[0m\u001b[0;34m\u001b[0m\u001b[0m\n\u001b[0m\u001b[1;32m     68\u001b[0m         \u001b[0;32mreturn\u001b[0m \u001b[0mself\u001b[0m\u001b[0;34m.\u001b[0m\u001b[0mtrace_dispatch\u001b[0m\u001b[0;34m\u001b[0m\u001b[0m\n\u001b[1;32m     69\u001b[0m \u001b[0;34m\u001b[0m\u001b[0m\n",
      "\u001b[0;31mBdbQuit\u001b[0m: "
     ]
    }
   ],
   "source": [
    "d = []\n",
    "with open(\"../data/practice_gh.json\", 'r') as f:\n",
    "    for i, record in enumerate(f):\n",
    "        data = json.loads(record)\n",
    "        if is_event(data, 'PushEvent'):\n",
    "            import pdb; pdb.set_trace();\n",
    "            \n",
    "            parser = PushEventParser(data, i)\n",
    "            parser.parse()\n",
    "            curr_data = parser.to_dict()\n",
    "            d.extend(curr_data)"
   ]
  },
  {
   "cell_type": "code",
   "execution_count": 75,
   "metadata": {},
   "outputs": [],
   "source": [
    "df = pd.DataFrame(d)"
   ]
  },
  {
   "cell_type": "code",
   "execution_count": 76,
   "metadata": {},
   "outputs": [
    {
     "data": {
      "text/plain": [
       "'fix main header height on mobile'"
      ]
     },
     "execution_count": 76,
     "metadata": {},
     "output_type": "execute_result"
    }
   ],
   "source": [
    "preprocess_message(df['message'][0])"
   ]
  },
  {
   "cell_type": "code",
   "execution_count": 106,
   "metadata": {},
   "outputs": [
    {
     "data": {
      "text/html": [
       "<div>\n",
       "<style scoped>\n",
       "    .dataframe tbody tr th:only-of-type {\n",
       "        vertical-align: middle;\n",
       "    }\n",
       "\n",
       "    .dataframe tbody tr th {\n",
       "        vertical-align: top;\n",
       "    }\n",
       "\n",
       "    .dataframe thead th {\n",
       "        text-align: right;\n",
       "    }\n",
       "</style>\n",
       "<table border=\"1\" class=\"dataframe\">\n",
       "  <thead>\n",
       "    <tr style=\"text-align: right;\">\n",
       "      <th></th>\n",
       "      <th>commit_idx</th>\n",
       "      <th>commit_sha</th>\n",
       "      <th>distinct</th>\n",
       "      <th>is_unique</th>\n",
       "      <th>message</th>\n",
       "      <th>repo_id</th>\n",
       "      <th>repo_name</th>\n",
       "    </tr>\n",
       "  </thead>\n",
       "  <tbody>\n",
       "    <tr>\n",
       "      <th>2547</th>\n",
       "      <td>0</td>\n",
       "      <td>568cfcc7ba58e46ab8e282ba87a4fc5a01b37365</td>\n",
       "      <td>2287</td>\n",
       "      <td>True</td>\n",
       "      <td>lwt 2.4.6</td>\n",
       "      <td>15841152</td>\n",
       "      <td>pippijn/opam-repository</td>\n",
       "    </tr>\n",
       "    <tr>\n",
       "      <th>2548</th>\n",
       "      <td>1</td>\n",
       "      <td>af9f482a6cac522d5df6754a2186c50fba8eef2c</td>\n",
       "      <td>2287</td>\n",
       "      <td>True</td>\n",
       "      <td>tighter constraint on rss for stog 0.4 -&gt; 0.7</td>\n",
       "      <td>15841152</td>\n",
       "      <td>pippijn/opam-repository</td>\n",
       "    </tr>\n",
       "    <tr>\n",
       "      <th>2549</th>\n",
       "      <td>2</td>\n",
       "      <td>a6444b805dc3489f1c08ea0aff2a02b277920633</td>\n",
       "      <td>2287</td>\n",
       "      <td>True</td>\n",
       "      <td>Merge branch 'master' of https://github.com/OC...</td>\n",
       "      <td>15841152</td>\n",
       "      <td>pippijn/opam-repository</td>\n",
       "    </tr>\n",
       "    <tr>\n",
       "      <th>2550</th>\n",
       "      <td>3</td>\n",
       "      <td>8a005b284fc80e5af176a8c14c77364c5b5103ce</td>\n",
       "      <td>2287</td>\n",
       "      <td>True</td>\n",
       "      <td>OCaml version specified</td>\n",
       "      <td>15841152</td>\n",
       "      <td>pippijn/opam-repository</td>\n",
       "    </tr>\n",
       "    <tr>\n",
       "      <th>2551</th>\n",
       "      <td>4</td>\n",
       "      <td>656fd3e9f93d8e1e4223fc225d53c478568973f3</td>\n",
       "      <td>2287</td>\n",
       "      <td>True</td>\n",
       "      <td>-j jobs option added to Coq IDE</td>\n",
       "      <td>15841152</td>\n",
       "      <td>pippijn/opam-repository</td>\n",
       "    </tr>\n",
       "  </tbody>\n",
       "</table>\n",
       "</div>"
      ],
      "text/plain": [
       "      commit_idx                                commit_sha  distinct  \\\n",
       "2547           0  568cfcc7ba58e46ab8e282ba87a4fc5a01b37365      2287   \n",
       "2548           1  af9f482a6cac522d5df6754a2186c50fba8eef2c      2287   \n",
       "2549           2  a6444b805dc3489f1c08ea0aff2a02b277920633      2287   \n",
       "2550           3  8a005b284fc80e5af176a8c14c77364c5b5103ce      2287   \n",
       "2551           4  656fd3e9f93d8e1e4223fc225d53c478568973f3      2287   \n",
       "\n",
       "      is_unique                                            message   repo_id  \\\n",
       "2547       True                                          lwt 2.4.6  15841152   \n",
       "2548       True      tighter constraint on rss for stog 0.4 -> 0.7  15841152   \n",
       "2549       True  Merge branch 'master' of https://github.com/OC...  15841152   \n",
       "2550       True                            OCaml version specified  15841152   \n",
       "2551       True                    -j jobs option added to Coq IDE  15841152   \n",
       "\n",
       "                    repo_name  \n",
       "2547  pippijn/opam-repository  \n",
       "2548  pippijn/opam-repository  \n",
       "2549  pippijn/opam-repository  \n",
       "2550  pippijn/opam-repository  \n",
       "2551  pippijn/opam-repository  "
      ]
     },
     "execution_count": 106,
     "metadata": {},
     "output_type": "execute_result"
    }
   ],
   "source": [
    "# df.sort_values('distinct', ascending=False)\n",
    "df[df['repo_id'] == 15841152].head()"
   ]
  },
  {
   "cell_type": "code",
   "execution_count": 107,
   "metadata": {},
   "outputs": [
    {
     "data": {
      "text/html": [
       "<div>\n",
       "<style scoped>\n",
       "    .dataframe tbody tr th:only-of-type {\n",
       "        vertical-align: middle;\n",
       "    }\n",
       "\n",
       "    .dataframe tbody tr th {\n",
       "        vertical-align: top;\n",
       "    }\n",
       "\n",
       "    .dataframe thead th {\n",
       "        text-align: right;\n",
       "    }\n",
       "</style>\n",
       "<table border=\"1\" class=\"dataframe\">\n",
       "  <thead>\n",
       "    <tr style=\"text-align: right;\">\n",
       "      <th></th>\n",
       "      <th>repo_id</th>\n",
       "      <th>commit_idx</th>\n",
       "      <th>commit_sha</th>\n",
       "      <th>distinct</th>\n",
       "      <th>is_unique</th>\n",
       "      <th>message</th>\n",
       "      <th>repo_name</th>\n",
       "    </tr>\n",
       "  </thead>\n",
       "  <tbody>\n",
       "    <tr>\n",
       "      <th>236</th>\n",
       "      <td>6058234</td>\n",
       "      <td>235</td>\n",
       "      <td>235</td>\n",
       "      <td>235</td>\n",
       "      <td>235</td>\n",
       "      <td>235</td>\n",
       "      <td>235</td>\n",
       "    </tr>\n",
       "    <tr>\n",
       "      <th>235</th>\n",
       "      <td>6058151</td>\n",
       "      <td>80</td>\n",
       "      <td>80</td>\n",
       "      <td>80</td>\n",
       "      <td>80</td>\n",
       "      <td>80</td>\n",
       "      <td>80</td>\n",
       "    </tr>\n",
       "    <tr>\n",
       "      <th>1012</th>\n",
       "      <td>21481110</td>\n",
       "      <td>80</td>\n",
       "      <td>80</td>\n",
       "      <td>80</td>\n",
       "      <td>80</td>\n",
       "      <td>80</td>\n",
       "      <td>80</td>\n",
       "    </tr>\n",
       "    <tr>\n",
       "      <th>231</th>\n",
       "      <td>6031942</td>\n",
       "      <td>80</td>\n",
       "      <td>80</td>\n",
       "      <td>80</td>\n",
       "      <td>80</td>\n",
       "      <td>80</td>\n",
       "      <td>80</td>\n",
       "    </tr>\n",
       "    <tr>\n",
       "      <th>1076</th>\n",
       "      <td>22131621</td>\n",
       "      <td>59</td>\n",
       "      <td>59</td>\n",
       "      <td>59</td>\n",
       "      <td>59</td>\n",
       "      <td>59</td>\n",
       "      <td>59</td>\n",
       "    </tr>\n",
       "  </tbody>\n",
       "</table>\n",
       "</div>"
      ],
      "text/plain": [
       "       repo_id  commit_idx  commit_sha  distinct  is_unique  message  \\\n",
       "236    6058234         235         235       235        235      235   \n",
       "235    6058151          80          80        80         80       80   \n",
       "1012  21481110          80          80        80         80       80   \n",
       "231    6031942          80          80        80         80       80   \n",
       "1076  22131621          59          59        59         59       59   \n",
       "\n",
       "      repo_name  \n",
       "236         235  \n",
       "235          80  \n",
       "1012         80  \n",
       "231          80  \n",
       "1076         59  "
      ]
     },
     "execution_count": 107,
     "metadata": {},
     "output_type": "execute_result"
    }
   ],
   "source": [
    "df.groupby(by=['repo_id']) \\\n",
    "    .count() \\\n",
    "    .reset_index(drop=False) \\\n",
    "    .sort_values('repo_name', ascending=False) \\\n",
    "    .head()"
   ]
  },
  {
   "cell_type": "code",
   "execution_count": null,
   "metadata": {},
   "outputs": [],
   "source": [
    "\n"
   ]
  }
 ],
 "metadata": {
  "kernelspec": {
   "display_name": "Python 3",
   "language": "python",
   "name": "python3"
  },
  "language_info": {
   "codemirror_mode": {
    "name": "ipython",
    "version": 3
   },
   "file_extension": ".py",
   "mimetype": "text/x-python",
   "name": "python",
   "nbconvert_exporter": "python",
   "pygments_lexer": "ipython3",
   "version": "3.5.5"
  }
 },
 "nbformat": 4,
 "nbformat_minor": 2
}
